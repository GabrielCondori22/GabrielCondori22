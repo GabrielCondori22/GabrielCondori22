{
  "nbformat": 4,
  "nbformat_minor": 0,
  "metadata": {
    "colab": {
      "provenance": [],
      "authorship_tag": "ABX9TyO2HoGL9onUF4tkLedfaSmq",
      "include_colab_link": true
    },
    "kernelspec": {
      "name": "python3",
      "display_name": "Python 3"
    },
    "language_info": {
      "name": "python"
    }
  },
  "cells": [
    {
      "cell_type": "markdown",
      "metadata": {
        "id": "view-in-github",
        "colab_type": "text"
      },
      "source": [
        "<a href=\"https://colab.research.google.com/github/GabrielCondori22/GabrielCondori22/blob/main/prac_numpy.ipynb\" target=\"_parent\"><img src=\"https://colab.research.google.com/assets/colab-badge.svg\" alt=\"Open In Colab\"/></a>"
      ]
    },
    {
      "cell_type": "code",
      "execution_count": 27,
      "metadata": {
        "id": "UGwjkRDPSp2w"
      },
      "outputs": [],
      "source": [
        "# Importamos la libreria numpy de python\n",
        "import numpy as np"
      ]
    },
    {
      "cell_type": "code",
      "source": [
        "# 1. Creación de Arrays:\n",
        "\n",
        "# Crear un array unidimensional (vector) con 5 elementos enteros de mi elección.\n",
        "vector = np.array([1, 2, 3, 4, 5])\n",
        "\n",
        "# Crear una matriz bidimensional (matriz) de tamaño 3x3 con valores enteros consecutivos.\n",
        "matriz_consecutivos = np.arange(1, 10).reshape(3, 3)\n",
        "\n",
        "# Utilizar la función np.zeros() para crear una matriz de tamaño 2x4 llena de ceros.\n",
        "matriz_zeros = np.zeros((2, 4), dtype=int)\n",
        "\n",
        "# Utilizar la función np.ones() para crear una matriz de tamaño 3x2 llena de unos.\n",
        "matriz_unos = np.ones((3, 2), dtype=int)\n",
        "\n",
        "# Utilizar la función np.random.randint() para crear una matriz de tamaño 4x4 con números enteros aleatorios entre 0 y 10.\n",
        "matriz_aleatoria = np.random.randint(0, 11, (4, 4))\n",
        "\n",
        "# Imprimir los resultados\n",
        "print(\"Vector:\", vector)\n",
        "print(\"Matriz de valores consecutivos:\\n\", matriz_consecutivos)\n",
        "print(\"Matriz de ceros:\\n\", matriz_zeros)\n",
        "print(\"Matriz de unos:\\n\", matriz_unos)\n",
        "print(\"Matriz aleatoria:\\n\", matriz_aleatoria)"
      ],
      "metadata": {
        "colab": {
          "base_uri": "https://localhost:8080/"
        },
        "id": "ab2-2vG4UMME",
        "outputId": "d29035af-db8b-457f-9741-066bbf0478f0"
      },
      "execution_count": 15,
      "outputs": [
        {
          "output_type": "stream",
          "name": "stdout",
          "text": [
            "Vector: [1 2 3 4 5]\n",
            "Matriz de valores consecutivos:\n",
            " [[1 2 3]\n",
            " [4 5 6]\n",
            " [7 8 9]]\n",
            "Matriz de ceros:\n",
            " [[0 0 0 0]\n",
            " [0 0 0 0]]\n",
            "Matriz de unos:\n",
            " [[1 1]\n",
            " [1 1]\n",
            " [1 1]]\n",
            "Matriz aleatoria:\n",
            " [[ 1  8  5 10]\n",
            " [ 4  3  6  0]\n",
            " [ 9  4  6  7]\n",
            " [ 4  6  1 10]]\n"
          ]
        }
      ]
    },
    {
      "cell_type": "code",
      "source": [
        "# 2. Acceso a Elementos:\n",
        "\n",
        "# Acceder al tercer elemento del vector creado anteriormente.\n",
        "tercer_elemento_vector = vector[2]\n",
        "\n",
        "# Acceder al elemento en la segunda fila y segunda columna de la matriz creada anteriormente.\n",
        "elemento_segunda_fila_segunda_columna = matriz_consecutivos[1, 1]\n",
        "\n",
        "# Imprimir los resultados\n",
        "print(\"Tercer elemento del vector:\", tercer_elemento_vector)\n",
        "print(\"Elemento en la segunda fila y segunda columna de la matriz:\", elemento_segunda_fila_segunda_columna)\n"
      ],
      "metadata": {
        "colab": {
          "base_uri": "https://localhost:8080/"
        },
        "id": "jM0tf2FfVgjL",
        "outputId": "5ff089e1-dd43-4198-a12f-2c95d04c6251"
      },
      "execution_count": 16,
      "outputs": [
        {
          "output_type": "stream",
          "name": "stdout",
          "text": [
            "Tercer elemento del vector: 3\n",
            "Elemento en la segunda fila y segunda columna de la matriz: 5\n"
          ]
        }
      ]
    },
    {
      "cell_type": "code",
      "source": [
        "# 3. Propiedades de los Arrays:\n",
        "\n",
        "# Utilizar el atributo ndim para verificar la cantidad de dimensiones de la matriz creada anteriormente.\n",
        "dimensiones_matriz = matriz_consecutivos.ndim\n",
        "\n",
        "# Utilizar el atributo shape para obtener la forma de la matriz creada anteriormente.\n",
        "forma_matriz = matriz_consecutivos.shape\n",
        "\n",
        "# Utilizar el atributo size para obtener el tamaño total de la matriz creada anteriormente.\n",
        "tamaño_matriz = matriz_consecutivos.size\n",
        "\n",
        "# Imprimir los resultados\n",
        "print(\"Cantidad de dimensiones de la matriz:\", dimensiones_matriz)\n",
        "print(\"Forma de la matriz:\", forma_matriz)\n",
        "print(\"Tamaño total de la matriz:\", tamaño_matriz)\n"
      ],
      "metadata": {
        "colab": {
          "base_uri": "https://localhost:8080/"
        },
        "id": "cpc-xd1DVktH",
        "outputId": "4793c253-d124-457c-b48d-43728c7339e7"
      },
      "execution_count": 17,
      "outputs": [
        {
          "output_type": "stream",
          "name": "stdout",
          "text": [
            "Cantidad de dimensiones de la matriz: 2\n",
            "Forma de la matriz: (3, 3)\n",
            "Tamaño total de la matriz: 9\n"
          ]
        }
      ]
    },
    {
      "cell_type": "code",
      "source": [
        "# 4. Operaciones Básicas:\n",
        "\n",
        "# Sumar dos matrices de tamaño 2x2 con valores aleatorios entre 0 y 10.\n",
        "matriz1 = np.random.randint(0, 11, (2, 2))\n",
        "matriz2 = np.random.randint(0, 11, (2, 2))\n",
        "suma_matrices = matriz1 + matriz2\n",
        "\n",
        "# Multiplicar dos matrices de tamaño 3x2 y 2x3 respectivamente.\n",
        "matriz3 = np.random.randint(0, 11, (3, 2))\n",
        "matriz4 = np.random.randint(0, 11, (2, 3))\n",
        "producto_matrices = np.dot(matriz3, matriz4)\n",
        "\n",
        "# Dividir una matriz de tamaño 2x2 por otra matriz de tamaño 2x2, utilizando tanto la división por elementos como la multiplicación por la inversa.\n",
        "matriz5 = np.random.randint(1, 11, (2, 2))\n",
        "matriz6 = np.random.randint(1, 11, (2, 2))\n",
        "\n",
        "# División por elementos\n",
        "division_elementos = matriz5 / matriz6\n",
        "\n",
        "# Multiplicación por la inversa\n",
        "inversa_matriz6 = np.linalg.inv(matriz6)\n",
        "division_inversa = np.dot(matriz5, inversa_matriz6)\n",
        "\n",
        "# Imprimir los resultados\n",
        "print(\"Suma de matrices:\\n\", suma_matrices)\n",
        "print(\"\\nProducto de matrices:\\n\", producto_matrices)\n",
        "print(\"\\nDivisión por elementos:\\n\", division_elementos)\n",
        "print(\"\\nMultiplicación por la inversa:\\n\", division_inversa)\n"
      ],
      "metadata": {
        "colab": {
          "base_uri": "https://localhost:8080/"
        },
        "id": "waL2qdMBWISG",
        "outputId": "bc47d5ca-3ea8-4377-b124-6c6333e90220"
      },
      "execution_count": 18,
      "outputs": [
        {
          "output_type": "stream",
          "name": "stdout",
          "text": [
            "Suma de matrices:\n",
            " [[15 18]\n",
            " [14  1]]\n",
            "\n",
            "Producto de matrices:\n",
            " [[ 18 100  78]\n",
            " [ 12  40   4]\n",
            " [ 15  80  59]]\n",
            "\n",
            "División por elementos:\n",
            " [[2.         1.5       ]\n",
            " [0.33333333 1.25      ]]\n",
            "\n",
            "Multiplicación por la inversa:\n",
            " [[ 1.1  0.2]\n",
            " [ 3.3 -0.4]]\n"
          ]
        }
      ]
    },
    {
      "cell_type": "code",
      "source": [
        "# 5. Manipulación de Arrays:\n",
        "\n",
        "# Crear un array unidimensional (vector) con 5 elementos enteros de mi elección\n",
        "vector = np.array([1, 2, 3, 4, 5, 6, 7, 8, 9])\n",
        "\n",
        "# Utilizar la función reshape() para convertir el vector en una matriz de tamaño 1x9\n",
        "matriz_1x9 = vector.reshape(1, 9)\n",
        "\n",
        "# Utilizar la función flatten() para convertir la matriz en un vector unidimensional\n",
        "vector_unidimensional = matriz_1x9.flatten()\n",
        "\n",
        "# Imprimir los resultados\n",
        "print(\"Matriz 1x9:\\n\", matriz_1x9)\n",
        "print(\"\\nVector unidimensional:\\n\", vector_unidimensional)\n"
      ],
      "metadata": {
        "colab": {
          "base_uri": "https://localhost:8080/"
        },
        "id": "IdWDMGXHW-xt",
        "outputId": "5792356f-5e22-4701-c10c-eca31dd8ad26"
      },
      "execution_count": 21,
      "outputs": [
        {
          "output_type": "stream",
          "name": "stdout",
          "text": [
            "Matriz 1x9:\n",
            " [[1 2 3 4 5 6 7 8 9]]\n",
            "\n",
            "Vector unidimensional:\n",
            " [1 2 3 4 5 6 7 8 9]\n"
          ]
        }
      ]
    },
    {
      "cell_type": "code",
      "source": [
        "# 6. Operaciones Estadísticas:\n",
        "\n",
        "# Matriz creada en el ejercicio \"Acceso a Elementos\"\n",
        "matriz_consecutivos = np.array([[1, 2, 3], [4, 5, 6], [7, 8, 9]])\n",
        "\n",
        "# Calcula la suma de todos los elementos de la matriz\n",
        "suma_total = np.sum(matriz_consecutivos)\n",
        "\n",
        "# Calcula la media de cada fila de la matriz\n",
        "media_filas = np.mean(matriz_consecutivos, axis=1)\n",
        "\n",
        "# Imprimir los resultados\n",
        "print(\"Suma de todos los elementos de la matriz:\", suma_total)\n",
        "print(\"Media de cada fila de la matriz:\", media_filas)\n"
      ],
      "metadata": {
        "colab": {
          "base_uri": "https://localhost:8080/"
        },
        "id": "NSSR90y8awe7",
        "outputId": "44174c6d-d971-43b2-f5d2-6f5feeffd1a7"
      },
      "execution_count": 23,
      "outputs": [
        {
          "output_type": "stream",
          "name": "stdout",
          "text": [
            "Suma de todos los elementos de la matriz: 45\n",
            "Media de cada fila de la matriz: [2. 5. 8.]\n"
          ]
        }
      ]
    },
    {
      "cell_type": "code",
      "source": [
        "#7. Indexación y Rebanado:\n",
        "# Matriz creada en el ejercicio \"Acceso a Elementos\"\n",
        "matriz_consecutivos = np.array([[1, 2, 3], [4, 5, 6], [7, 8, 9]])\n",
        "\n",
        "# Imprimir la primera fila de la matriz\n",
        "primera_fila = matriz_consecutivos[0]\n",
        "\n",
        "# Imprimir las primeras dos columnas de la matriz\n",
        "primeras_dos_columnas = matriz_consecutivos[:, :2]\n",
        "\n",
        "# Imprimir los resultados\n",
        "print(\"Primera fila de la matriz:\", primera_fila)\n",
        "print(\"Primeras dos columnas de la matriz:\\n\", primeras_dos_columnas)\n"
      ],
      "metadata": {
        "colab": {
          "base_uri": "https://localhost:8080/"
        },
        "id": "dwunUWTGbQ7W",
        "outputId": "3ca7ae6e-7b04-4e3a-f5c3-aa0e9eb153de"
      },
      "execution_count": 25,
      "outputs": [
        {
          "output_type": "stream",
          "name": "stdout",
          "text": [
            "Primera fila de la matriz: [1 2 3]\n",
            "Primeras dos columnas de la matriz:\n",
            " [[1 2]\n",
            " [4 5]\n",
            " [7 8]]\n"
          ]
        }
      ]
    },
    {
      "cell_type": "code",
      "source": [
        "# 8. Ejercicio Adicional:\n",
        "\n",
        "# Define una matriz de tamaño 4x4 con valores aleatorios\n",
        "matriz_aleatoria = np.random.randint(0, 100, (4, 4))\n",
        "\n",
        "# Encuentra el valor máximo y su posición\n",
        "valor_maximo = np.max(matriz_aleatoria)\n",
        "posicion_maximo = np.unravel_index(np.argmax(matriz_aleatoria), matriz_aleatoria.shape)\n",
        "\n",
        "# Encuentra el valor mínimo y su posición\n",
        "valor_minimo = np.min(matriz_aleatoria)\n",
        "posicion_minimo = np.unravel_index(np.argmin(matriz_aleatoria), matriz_aleatoria.shape)\n",
        "\n",
        "# Imprimir los resultados\n",
        "print(\"Matriz aleatoria:\\n\", matriz_aleatoria)\n",
        "print(\"\\nValor máximo:\", valor_maximo)\n",
        "print(\"Posición del valor máximo:\", posicion_maximo)\n",
        "print(\"\\nValor mínimo:\", valor_minimo)\n",
        "print(\"Posición del valor mínimo:\", posicion_minimo)\n"
      ],
      "metadata": {
        "colab": {
          "base_uri": "https://localhost:8080/"
        },
        "id": "FAyAGaS0cbRC",
        "outputId": "d93ecba4-f8fa-4b58-c5b9-75fa6f144f42"
      },
      "execution_count": 26,
      "outputs": [
        {
          "output_type": "stream",
          "name": "stdout",
          "text": [
            "Matriz aleatoria:\n",
            " [[95 75 84 27]\n",
            " [21 84 80 98]\n",
            " [67 98 38 61]\n",
            " [28 73 81 51]]\n",
            "\n",
            "Valor máximo: 98\n",
            "Posición del valor máximo: (1, 3)\n",
            "\n",
            "Valor mínimo: 21\n",
            "Posición del valor mínimo: (1, 0)\n"
          ]
        }
      ]
    }
  ]
}