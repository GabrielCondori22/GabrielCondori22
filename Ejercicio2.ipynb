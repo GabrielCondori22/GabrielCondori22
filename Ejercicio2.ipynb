{
  "nbformat": 4,
  "nbformat_minor": 0,
  "metadata": {
    "colab": {
      "provenance": [],
      "authorship_tag": "ABX9TyOlPvXglTxC3I0g0GMCHJpm",
      "include_colab_link": true
    },
    "kernelspec": {
      "name": "python3",
      "display_name": "Python 3"
    },
    "language_info": {
      "name": "python"
    }
  },
  "cells": [
    {
      "cell_type": "markdown",
      "metadata": {
        "id": "view-in-github",
        "colab_type": "text"
      },
      "source": [
        "<a href=\"https://colab.research.google.com/github/GabrielCondori22/GabrielCondori22/blob/main/Ejercicio2.ipynb\" target=\"_parent\"><img src=\"https://colab.research.google.com/assets/colab-badge.svg\" alt=\"Open In Colab\"/></a>"
      ]
    },
    {
      "cell_type": "code",
      "execution_count": 1,
      "metadata": {
        "id": "ouUSDmn_0gkI"
      },
      "outputs": [],
      "source": [
        "import pandas as pd"
      ]
    },
    {
      "cell_type": "code",
      "source": [
        "datos = pd.read_csv(\"https://docs.google.com/spreadsheets/d/e/2PACX-1vRB-gUMq0kzWMKPP9_tzTmguWv7mdyjBiUKU_uxYC3tADKUuBS_huqd1nDFvqmnen_U99ID7WW9vIEs/pub?output=csv\")"
      ],
      "metadata": {
        "id": "45lkLV4C0m8F"
      },
      "execution_count": 2,
      "outputs": []
    },
    {
      "cell_type": "code",
      "source": [
        "print(datos)"
      ],
      "metadata": {
        "colab": {
          "base_uri": "https://localhost:8080/"
        },
        "id": "Tgq5-ZOg0viU",
        "outputId": "7b247b1e-16a8-43b1-9662-c3eaeb9251b2"
      },
      "execution_count": 3,
      "outputs": [
        {
          "output_type": "stream",
          "name": "stdout",
          "text": [
            "       nombre  edad     genero    ciudad  ingresos      educacion  \\\n",
            "0        Juan    28  Masculino      Lima      4500  Universitario   \n",
            "1       María    35   Femenino  Arequipa      3500     Secundaria   \n",
            "2        Luis    40  Masculino     Cusco      5200  Universitario   \n",
            "3         Ana    22   Femenino      Lima      2800  Universitario   \n",
            "4      Walter    19  Masculino   Juliaca      3100        Técnico   \n",
            "5       Pedro    30  Masculino  Arequipa      4000        Técnico   \n",
            "6       Laura    27   Femenino      Lima      3200     Secundaria   \n",
            "7      Carlos    29  Masculino     Cusco      4800  Universitario   \n",
            "8       Sofía    25   Femenino      Lima      3000  Universitario   \n",
            "9   Esmeralda    23   Femenino   Juliaca      3200  Universitario   \n",
            "10     Andrés    33  Masculino  Arequipa      4200  Universitario   \n",
            "11   Gabriela    31   Femenino      Lima      3800  Universitario   \n",
            "12      Diego    26  Masculino     Cusco      3600        Técnico   \n",
            "13    Ernesto    42  Masculino   Juliaca      4200        Técnico   \n",
            "\n",
            "    estado_civil  \n",
            "0        Soltero  \n",
            "1         Casado  \n",
            "2         Casado  \n",
            "3        Soltero  \n",
            "4        Soltero  \n",
            "5        Soltero  \n",
            "6         Casado  \n",
            "7   Comprometido  \n",
            "8        Soltero  \n",
            "9        Soltero  \n",
            "10        Casado  \n",
            "11    Divorciado  \n",
            "12  Comprometido  \n",
            "13        Casado  \n"
          ]
        }
      ]
    }
  ]
}