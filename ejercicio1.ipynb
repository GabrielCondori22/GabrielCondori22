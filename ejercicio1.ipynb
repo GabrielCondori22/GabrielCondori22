{
  "nbformat": 4,
  "nbformat_minor": 0,
  "metadata": {
    "colab": {
      "provenance": [],
      "authorship_tag": "ABX9TyMWhZ6xh3EkjbLOWMCS/ANU",
      "include_colab_link": true
    },
    "kernelspec": {
      "name": "python3",
      "display_name": "Python 3"
    },
    "language_info": {
      "name": "python"
    }
  },
  "cells": [
    {
      "cell_type": "markdown",
      "metadata": {
        "id": "view-in-github",
        "colab_type": "text"
      },
      "source": [
        "<a href=\"https://colab.research.google.com/github/GabrielCondori22/GabrielCondori22/blob/main/ejercicio1.ipynb\" target=\"_parent\"><img src=\"https://colab.research.google.com/assets/colab-badge.svg\" alt=\"Open In Colab\"/></a>"
      ]
    },
    {
      "cell_type": "markdown",
      "source": [],
      "metadata": {
        "id": "nVNW_DJ6tRx8"
      }
    },
    {
      "cell_type": "code",
      "source": [
        "import pandas as pd"
      ],
      "metadata": {
        "id": "80tsukgpvskF"
      },
      "execution_count": 54,
      "outputs": []
    },
    {
      "cell_type": "code",
      "source": [
        "datos = pd.read_csv(\"https://docs.google.com/spreadsheets/d/e/2PACX-1vT26poP6_8ojH9daKjBUIEpeMYfYMO7fXcOCbasoYtabuDStyPQzmAOwEND0c4sebwLD3vnFe6pRSoh/pub?output=csv\")"
      ],
      "metadata": {
        "id": "pcooUtLuvu4E"
      },
      "execution_count": 55,
      "outputs": []
    },
    {
      "cell_type": "code",
      "source": [
        "print(datos)"
      ],
      "metadata": {
        "colab": {
          "base_uri": "https://localhost:8080/"
        },
        "id": "b6o1Q6Eaz_dP",
        "outputId": "2580ea4e-ea45-4d01-d561-d73bb4bad53a"
      },
      "execution_count": 57,
      "outputs": [
        {
          "output_type": "stream",
          "name": "stdout",
          "text": [
            "       nombre  edad    ciudad  ingresos\n",
            "0        Juan    30      Lima      2500\n",
            "1       María    28  Arequipa      3800\n",
            "2        Luis    35     Cusco      4800\n",
            "3         Ana    22  Trujillo      2000\n",
            "4       Pedro    28  Arequipa      3200\n",
            "5      Leonel    64   Juliaca      4980\n",
            "6       Laura    31      Lima      4200\n",
            "7      Carlos    25     Cusco      1800\n",
            "8       Sofía    29  Trujillo      2900\n",
            "9      Andrés    27      Lima      2600\n",
            "10   Gabriela    33  Arequipa      4000\n",
            "11    Micaela    21   Juliaca      5000\n",
            "12      Diego    24     Cusco      3200\n",
            "13  Valentina    26  Trujillo      3500\n",
            "14     Lorena    30      Lima      3800\n",
            "15     Javier    32  Arequipa      5000\n",
            "16    Daniela    29      Lima      2700\n",
            "17     Manuel    31  Trujillo      2700\n",
            "18   Fernanda    28     Cusco      2100\n",
            "19    Ricardo    35      Lima      4400\n",
            "20      Lucía    23  Trujillo      1500\n",
            "21       José    34  Arequipa      4200\n",
            "22      Willy    55      Puno      1300\n"
          ]
        }
      ]
    },
    {
      "cell_type": "code",
      "source": [
        "#Obtenemos la suma total de la columna ingresos\n",
        "suma_ingresos = datos['ingresos'].sum()\n",
        "print(\"La suma de la columna ingresos es \", suma_ingresos)"
      ],
      "metadata": {
        "colab": {
          "base_uri": "https://localhost:8080/"
        },
        "id": "HPatk20aw0Pw",
        "outputId": "dc22772c-bc4a-4628-f245-db162d724a9d"
      },
      "execution_count": 38,
      "outputs": [
        {
          "output_type": "stream",
          "name": "stdout",
          "text": [
            "La suma de la columna ingresos es  76180\n"
          ]
        }
      ]
    },
    {
      "cell_type": "code",
      "source": [
        "#Obtenemos el promedio de las edad de la persona de la lista\n",
        "promedio_edad = datos['edad'].mean()\n",
        "print(\"El promedio de edad es \", int(promedio_edad))"
      ],
      "metadata": {
        "colab": {
          "base_uri": "https://localhost:8080/"
        },
        "id": "eHT7J4QOxkJ2",
        "outputId": "e968dd43-6278-4071-be9d-5d45915e93ac"
      },
      "execution_count": 39,
      "outputs": [
        {
          "output_type": "stream",
          "name": "stdout",
          "text": [
            "El promedio de edad es  31\n"
          ]
        }
      ]
    },
    {
      "cell_type": "code",
      "source": [
        "#Filtro por ciudad, \"Arequipa\"\n",
        "arequipa_df = datos[datos['ciudad'] == 'Arequipa']\n",
        "print(arequipa_df)"
      ],
      "metadata": {
        "colab": {
          "base_uri": "https://localhost:8080/"
        },
        "id": "nSb5HvMtx8hP",
        "outputId": "df022b7d-8fd0-49bc-a24a-93f52575c68c"
      },
      "execution_count": 48,
      "outputs": [
        {
          "output_type": "stream",
          "name": "stdout",
          "text": [
            "      nombre  edad    ciudad  ingresos\n",
            "1      María    28  Arequipa      3800\n",
            "4      Pedro    28  Arequipa      3200\n",
            "10  Gabriela    33  Arequipa      4000\n",
            "15    Javier    32  Arequipa      5000\n",
            "21      José    34  Arequipa      4200\n"
          ]
        }
      ]
    },
    {
      "cell_type": "code",
      "source": [
        "#Promedio de ingresos por ciudad\n",
        "promedio_ingresos_por_ciudad = df.groupby('ciudad')['ingresos'].mean().astype(int);\n",
        "print(promedio_ingresos_por_ciudad)"
      ],
      "metadata": {
        "colab": {
          "base_uri": "https://localhost:8080/"
        },
        "id": "6HZeAmtr1fO2",
        "outputId": "843fb78f-d947-41df-8cd4-5ff4bf0cb481"
      },
      "execution_count": 47,
      "outputs": [
        {
          "output_type": "stream",
          "name": "stdout",
          "text": [
            "ciudad\n",
            "Arequipa    4040\n",
            "Cusco       2975\n",
            "Juliaca     4990\n",
            "Lima        3366\n",
            "Puno        1300\n",
            "Trujillo    2520\n",
            "Name: ingresos, dtype: int64\n"
          ]
        }
      ]
    },
    {
      "cell_type": "code",
      "source": [
        "#Persona mas joven y mas mayor\n",
        "joven=datos.loc[datos['edad']==datos['edad'].min(), \"nombre\"].values[0]\n",
        "print(joven);\n",
        "mayor=datos.loc[datos['edad']==datos['edad'].max(), \"nombre\"].values[0]\n",
        "print(mayor);\n"
      ],
      "metadata": {
        "colab": {
          "base_uri": "https://localhost:8080/"
        },
        "id": "xXk1lQne1mRk",
        "outputId": "d7ce0b38-3236-4c10-a3b6-c003f594c498"
      },
      "execution_count": 65,
      "outputs": [
        {
          "output_type": "stream",
          "name": "stdout",
          "text": [
            "Micaela\n",
            "Leonel\n"
          ]
        }
      ]
    },
    {
      "cell_type": "code",
      "source": [
        "#Persona mas joven y mas mayor\n",
        "joven=datos.loc[datos['edad']==datos['edad'].min()].values[0]\n",
        "print(joven);\n",
        "mayor=datos.loc[datos['edad']==datos['edad'].max()].values[0]\n",
        "print(mayor);"
      ],
      "metadata": {
        "colab": {
          "base_uri": "https://localhost:8080/"
        },
        "id": "KjtCKo7N4L8X",
        "outputId": "8b4b157d-b0f4-4f5f-d827-ac04912e8f28"
      },
      "execution_count": 64,
      "outputs": [
        {
          "output_type": "stream",
          "name": "stdout",
          "text": [
            "['Micaela' 21 'Juliaca' 5000]\n",
            "['Leonel' 64 'Juliaca' 4980]\n"
          ]
        }
      ]
    },
    {
      "cell_type": "code",
      "source": [
        "#Obtenemos el numero de personas por ciudad - Modo 1\n",
        "personas_por_ciudades=datos.groupby(\"ciudad\")[\"nombre\"].count()\n",
        "print(personas_por_ciudades)"
      ],
      "metadata": {
        "colab": {
          "base_uri": "https://localhost:8080/"
        },
        "id": "mOijA1g76FgN",
        "outputId": "41bdba87-1be6-463f-b08b-3835ba731da2"
      },
      "execution_count": 71,
      "outputs": [
        {
          "output_type": "stream",
          "name": "stdout",
          "text": [
            "ciudad\n",
            "Arequipa    5\n",
            "Cusco       4\n",
            "Juliaca     2\n",
            "Lima        6\n",
            "Puno        1\n",
            "Trujillo    5\n",
            "Name: nombre, dtype: int64\n"
          ]
        }
      ]
    },
    {
      "cell_type": "code",
      "source": [
        "#Obtenemos el numero de personas por ciudad - Modo 2\n",
        "trabajadores_por_ciudad = datos['ciudad'].value_counts()\n",
        "total_trabajadores = trabajadores_por_ciudad.sum()\n",
        "print(trabajadores_por_ciudad)\n",
        "print(\"\\nTotal de trabajadores:\", total_trabajadores)"
      ],
      "metadata": {
        "colab": {
          "base_uri": "https://localhost:8080/"
        },
        "id": "TBFnj1Uo5FDN",
        "outputId": "b4245fab-a189-4c9e-88ad-ee92172f132a"
      },
      "execution_count": 68,
      "outputs": [
        {
          "output_type": "stream",
          "name": "stdout",
          "text": [
            "Lima        6\n",
            "Arequipa    5\n",
            "Trujillo    5\n",
            "Cusco       4\n",
            "Juliaca     2\n",
            "Puno        1\n",
            "Name: ciudad, dtype: int64\n",
            "\n",
            "Total de trabajadores: 23\n"
          ]
        }
      ]
    },
    {
      "cell_type": "code",
      "source": [
        "#Orden por edad de forma descendente\n",
        "df_ordenado_por_edad_descendente = datos.sort_values(by='edad', ascending=False)\n",
        "print(df_ordenado_por_edad_descendente)"
      ],
      "metadata": {
        "colab": {
          "base_uri": "https://localhost:8080/"
        },
        "id": "mOLn2jOA6W6t",
        "outputId": "100e5236-2e21-4614-ffd5-489531736592"
      },
      "execution_count": 72,
      "outputs": [
        {
          "output_type": "stream",
          "name": "stdout",
          "text": [
            "       nombre  edad    ciudad  ingresos\n",
            "5      Leonel    64   Juliaca      4980\n",
            "22      Willy    55      Puno      1300\n",
            "2        Luis    35     Cusco      4800\n",
            "19    Ricardo    35      Lima      4400\n",
            "21       José    34  Arequipa      4200\n",
            "10   Gabriela    33  Arequipa      4000\n",
            "15     Javier    32  Arequipa      5000\n",
            "6       Laura    31      Lima      4200\n",
            "17     Manuel    31  Trujillo      2700\n",
            "14     Lorena    30      Lima      3800\n",
            "0        Juan    30      Lima      2500\n",
            "8       Sofía    29  Trujillo      2900\n",
            "16    Daniela    29      Lima      2700\n",
            "1       María    28  Arequipa      3800\n",
            "18   Fernanda    28     Cusco      2100\n",
            "4       Pedro    28  Arequipa      3200\n",
            "9      Andrés    27      Lima      2600\n",
            "13  Valentina    26  Trujillo      3500\n",
            "7      Carlos    25     Cusco      1800\n",
            "12      Diego    24     Cusco      3200\n",
            "20      Lucía    23  Trujillo      1500\n",
            "3         Ana    22  Trujillo      2000\n",
            "11    Micaela    21   Juliaca      5000\n"
          ]
        }
      ]
    },
    {
      "cell_type": "code",
      "source": [
        "#promedio de ingresos de mayores de 30 años\n",
        "mayores_de_30 = datos[datos['edad'] > 30]\n",
        "promedio_ingresos_mayores_de_30 = mayores_de_30['ingresos'].mean().astype(int);\n",
        "print(\"Promedio de ingresos de personas mayores de 30 años:\", promedio_ingresos_mayores_de_30)"
      ],
      "metadata": {
        "colab": {
          "base_uri": "https://localhost:8080/"
        },
        "id": "ubdTlXUN8yrW",
        "outputId": "1a8c3356-289f-48eb-fcb1-b6de37c19023"
      },
      "execution_count": 80,
      "outputs": [
        {
          "output_type": "stream",
          "name": "stdout",
          "text": [
            "Promedio de ingresos de personas mayores de 30 años: 3953\n"
          ]
        }
      ]
    },
    {
      "cell_type": "code",
      "source": [
        "#ingresos totales por ciudades\n",
        "ingresos_por_ciudad = datos.groupby('ciudad')['ingresos'].sum()\n",
        "print(\"Ingresos totales por ciudad:\")\n",
        "print(ingresos_por_ciudad)"
      ],
      "metadata": {
        "colab": {
          "base_uri": "https://localhost:8080/"
        },
        "id": "fflRFHU49DzH",
        "outputId": "fcfff7e2-6b6c-4458-ba76-1791be77ebb1"
      },
      "execution_count": 81,
      "outputs": [
        {
          "output_type": "stream",
          "name": "stdout",
          "text": [
            "Ingresos totales por ciudad:\n",
            "ciudad\n",
            "Arequipa    20200\n",
            "Cusco       11900\n",
            "Juliaca      9980\n",
            "Lima        20200\n",
            "Puno         1300\n",
            "Trujillo    12600\n",
            "Name: ingresos, dtype: int64\n"
          ]
        }
      ]
    },
    {
      "cell_type": "code",
      "source": [
        "#personas con los ingresos más alto\n",
        "personas_ingresos_altos = datos[datos['ingresos'] == datos['ingresos'].max()]\n",
        "print(\"Personas con los ingresos más altos:\")\n",
        "print(personas_ingresos_altos)"
      ],
      "metadata": {
        "colab": {
          "base_uri": "https://localhost:8080/"
        },
        "id": "7nXiOTxS9XZN",
        "outputId": "2f6df92b-3555-498a-c183-e102871a4f73"
      },
      "execution_count": 82,
      "outputs": [
        {
          "output_type": "stream",
          "name": "stdout",
          "text": [
            "Personas con los ingresos más altos:\n",
            "     nombre  edad    ciudad  ingresos\n",
            "11  Micaela    21   Juliaca      5000\n",
            "15   Javier    32  Arequipa      5000\n"
          ]
        }
      ]
    },
    {
      "cell_type": "code",
      "source": [
        "#Crear un histograma de edades\n",
        "import matplotlib.pyplot as plt\n",
        "plt.figure(figsize=(10, 6))\n",
        "plt.hist(df['edad'], bins=20, color='skyblue', edgecolor='black')\n",
        "plt.title('Histograma de Edades')\n",
        "plt.xlabel('Edad')\n",
        "plt.ylabel('Frecuencia')\n",
        "plt.grid(True)\n",
        "plt.show()"
      ],
      "metadata": {
        "colab": {
          "base_uri": "https://localhost:8080/",
          "height": 564
        },
        "id": "GTCKGMb4-Otm",
        "outputId": "3a7be2a5-d29d-45bd-84db-c52fe8e79260"
      },
      "execution_count": 84,
      "outputs": [
        {
          "output_type": "display_data",
          "data": {
            "text/plain": [
              "<Figure size 1000x600 with 1 Axes>"
            ],
            "image/png": "[encoded data removed]"
          },
          "metadata": {}
        }
      ]
    },
    {
      "cell_type": "code",
      "source": [
        "#agregar una columna de impuestos que represente el 10% de los ingresos\n",
        "datos['impuestos'] = (datos['ingresos'] * 0.10).astype(int)\n",
        "print(datos)"
      ],
      "metadata": {
        "colab": {
          "base_uri": "https://localhost:8080/"
        },
        "id": "BN9RSw_n-msB",
        "outputId": "380c1ba9-62a6-427f-ec95-1f6ec9ee74da"
      },
      "execution_count": 91,
      "outputs": [
        {
          "output_type": "stream",
          "name": "stdout",
          "text": [
            "       nombre  edad    ciudad  ingresos  impuestos\n",
            "0        Juan    30      Lima      2500        250\n",
            "1       María    28  Arequipa      3800        380\n",
            "2        Luis    35     Cusco      4800        480\n",
            "3         Ana    22  Trujillo      2000        200\n",
            "4       Pedro    28  Arequipa      3200        320\n",
            "5      Leonel    64   Juliaca      4980        498\n",
            "6       Laura    31      Lima      4200        420\n",
            "7      Carlos    25     Cusco      1800        180\n",
            "8       Sofía    29  Trujillo      2900        290\n",
            "9      Andrés    27      Lima      2600        260\n",
            "10   Gabriela    33  Arequipa      4000        400\n",
            "11    Micaela    21   Juliaca      5000        500\n",
            "12      Diego    24     Cusco      3200        320\n",
            "13  Valentina    26  Trujillo      3500        350\n",
            "14     Lorena    30      Lima      3800        380\n",
            "15     Javier    32  Arequipa      5000        500\n",
            "16    Daniela    29      Lima      2700        270\n",
            "17     Manuel    31  Trujillo      2700        270\n",
            "18   Fernanda    28     Cusco      2100        210\n",
            "19    Ricardo    35      Lima      4400        440\n",
            "20      Lucía    23  Trujillo      1500        150\n",
            "21       José    34  Arequipa      4200        420\n",
            "22      Willy    55      Puno      1300        130\n"
          ]
        }
      ]
    }
  ]
}