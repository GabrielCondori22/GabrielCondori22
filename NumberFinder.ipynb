{
  "nbformat": 4,
  "nbformat_minor": 0,
  "metadata": {
    "colab": {
      "provenance": [],
      "authorship_tag": "ABX9TyOkN3GBqI6scc3IOmFmDoQJ",
      "include_colab_link": true
    },
    "kernelspec": {
      "name": "python3",
      "display_name": "Python 3"
    },
    "language_info": {
      "name": "python"
    }
  },
  "cells": [
    {
      "cell_type": "markdown",
      "metadata": {
        "id": "view-in-github",
        "colab_type": "text"
      },
      "source": [
        "<a href=\"https://colab.research.google.com/github/GabrielCondori22/GabrielCondori22/blob/main/NumberFinder.ipynb\" target=\"_parent\"><img src=\"https://colab.research.google.com/assets/colab-badge.svg\" alt=\"Open In Colab\"/></a>"
      ]
    },
    {
      "cell_type": "code",
      "execution_count": 1,
      "metadata": {
        "colab": {
          "base_uri": "https://localhost:8080/"
        },
        "id": "x0YWftfy8_oz",
        "outputId": "7f1c6580-3740-48ba-fa11-0cd45c9fa4b1"
      },
      "outputs": [
        {
          "output_type": "stream",
          "name": "stdout",
          "text": [
            "Archivo CSV creado con éxito.\n"
          ]
        }
      ],
      "source": [
        "import pandas as pd\n",
        "\n",
        "# Definimos el número base y la lista para almacenar las filas\n",
        "base_number = 984268\n",
        "rows = []\n",
        "\n",
        "# Generamos los números de 9 cifras y las filas\n",
        "for i in range(1, 1000):\n",
        "    suffix = f\"{i:03d}\"\n",
        "    full_number = f\"{base_number}{suffix}\"\n",
        "    row = f\"Karen {suffix},Karen {suffix} ,,,,,,,,,,,,,,,,,,,,,,,,,,,,Karen ::: * myContacts,,{full_number},,\"\n",
        "    rows.append(row)\n",
        "\n",
        "# Crear un DataFrame con las filas generadas\n",
        "df = pd.DataFrame(rows, columns=[\"Contact\"])\n",
        "\n",
        "# Exportar el DataFrame a un archivo CSV\n",
        "df.to_csv('contacts.csv', index=False)\n",
        "\n",
        "print(\"Archivo CSV creado con éxito.\")\n"
      ]
    },
    {
      "cell_type": "code",
      "source": [
        "# Definimos el número base y la lista para almacenar las filas\n",
        "base_number = 984268\n",
        "rows = []\n",
        "\n",
        "# Generamos los números de 9 cifras y las filas\n",
        "for i in range(1, 1000):\n",
        "    suffix = f\"{i:03d}\"\n",
        "    full_number = f\"{base_number}{suffix}\"\n",
        "    row = f\"Karen {suffix},Karen {suffix} ,,,,,,,,,,,,,,,,,,,,,,,,,,,,Karen ::: * myContacts,,{full_number},,\"\n",
        "    rows.append(row)\n",
        "\n",
        "# Escribir las filas en un archivo CSV sin comillas alrededor de las cadenas de texto\n",
        "with open('contacts.csv', 'w') as file:\n",
        "    for row in rows:\n",
        "        file.write(row + \"\\n\")\n",
        "\n",
        "print(\"Archivo CSV creado con éxito.\")\n"
      ],
      "metadata": {
        "colab": {
          "base_uri": "https://localhost:8080/"
        },
        "id": "_Kv29V4b9qzT",
        "outputId": "0d5dbce5-2a63-4ad1-e8e6-86cdc282b38e"
      },
      "execution_count": 2,
      "outputs": [
        {
          "output_type": "stream",
          "name": "stdout",
          "text": [
            "Archivo CSV creado con éxito.\n"
          ]
        }
      ]
    }
  ]
}